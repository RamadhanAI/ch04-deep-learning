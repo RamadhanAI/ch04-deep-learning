{
 "cells": [
  {
   "cell_type": "markdown",
   "id": "1f07d744",
   "metadata": {},
   "source": [
    "# 🗣 Ticket Triage with DistilBERT\n",
    "Fine-tune a DistilBERT model to classify support tickets."
   ]
  },
  {
   "cell_type": "code",
   "execution_count": null,
   "id": "de46bc23",
   "metadata": {},
   "outputs": [],
   "source": [
    "from transformers import DistilBertTokenizerFast, DistilBertForSequenceClassification, Trainer, TrainingArguments\n",
    "from sklearn.model_selection import train_test_split\n",
    "import torch\n",
    "import pandas as pd\n",
    "\n",
    "device = torch.device(\"cuda\" if torch.cuda.is_available() else \"cpu\")\n"
   ]
  },
  {
   "cell_type": "code",
   "execution_count": null,
   "id": "9cb9b62b",
   "metadata": {},
   "outputs": [],
   "source": [
    "# Simulate dataset\n",
    "data = {\n",
    "    \"text\": [\n",
    "        \"Password reset not working\",\n",
    "        \"Cannot connect to VPN\",\n",
    "        \"Request refund for subscription\",\n",
    "        \"System outage - urgent\",\n",
    "        \"Printer is not working again\"\n",
    "    ],\n",
    "    \"label\": [0, 1, 2, 1, 1]  # 0: Account, 1: IT, 2: Billing\n",
    "}\n",
    "df = pd.DataFrame(data)\n",
    "train_texts, val_texts, train_labels, val_labels = train_test_split(df.text.tolist(), df.label.tolist(), test_size=0.2)\n"
   ]
  },
  {
   "cell_type": "code",
   "execution_count": null,
   "id": "daba63a7",
   "metadata": {},
   "outputs": [],
   "source": [
    "tokenizer = DistilBertTokenizerFast.from_pretrained(\"distilbert-base-uncased\")\n",
    "\n",
    "train_encodings = tokenizer(train_texts, truncation=True, padding=True)\n",
    "val_encodings = tokenizer(val_texts, truncation=True, padding=True)\n",
    "\n",
    "class TicketDataset(torch.utils.data.Dataset):\n",
    "    def __init__(self, encodings, labels):\n",
    "        self.encodings = encodings\n",
    "        self.labels = labels\n",
    "\n",
    "    def __getitem__(self, idx):\n",
    "        return {k: torch.tensor(v[idx]) for k, v in self.encodings.items()} | {'labels': torch.tensor(self.labels[idx])}\n",
    "\n",
    "    def __len__(self):\n",
    "        return len(self.labels)\n",
    "\n",
    "train_dataset = TicketDataset(train_encodings, train_labels)\n",
    "val_dataset = TicketDataset(val_encodings, val_labels)\n"
   ]
  },
  {
   "cell_type": "code",
   "execution_count": null,
   "id": "b714742c",
   "metadata": {},
   "outputs": [],
   "source": [
    "model = DistilBertForSequenceClassification.from_pretrained(\"distilbert-base-uncased\", num_labels=3).to(device)\n",
    "\n",
    "training_args = TrainingArguments(\n",
    "    output_dir=\"./results\",\n",
    "    num_train_epochs=3,\n",
    "    per_device_train_batch_size=2,\n",
    "    per_device_eval_batch_size=2,\n",
    "    warmup_steps=10,\n",
    "    evaluation_strategy=\"epoch\",\n",
    "    logging_dir=\"./logs\",\n",
    "    logging_steps=10,\n",
    ")\n",
    "\n",
    "trainer = Trainer(\n",
    "    model=model,\n",
    "    args=training_args,\n",
    "    train_dataset=train_dataset,\n",
    "    eval_dataset=val_dataset,\n",
    ")\n",
    "\n",
    "trainer.train()\n"
   ]
  }
 ],
 "metadata": {},
 "nbformat": 4,
 "nbformat_minor": 5
}
